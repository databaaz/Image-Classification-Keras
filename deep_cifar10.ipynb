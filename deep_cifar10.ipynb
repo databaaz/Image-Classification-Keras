{
  "nbformat": 4,
  "nbformat_minor": 0,
  "metadata": {
    "colab": {
      "name": "deep_cifar10.ipynb",
      "version": "0.3.2",
      "provenance": [],
      "include_colab_link": true
    },
    "kernelspec": {
      "name": "python3",
      "display_name": "Python 3"
    }
  },
  "cells": [
    {
      "cell_type": "markdown",
      "metadata": {
        "id": "view-in-github",
        "colab_type": "text"
      },
      "source": [
        "<a href=\"https://colab.research.google.com/github/databaaz/Image-Classification-Keras/blob/master/deep_cifar10.ipynb\" target=\"_parent\"><img src=\"https://colab.research.google.com/assets/colab-badge.svg\" alt=\"Open In Colab\"/></a>"
      ]
    },
    {
      "metadata": {
        "id": "UCU-WkJqinZ2",
        "colab_type": "text"
      },
      "cell_type": "markdown",
      "source": [
        "# Deep Network for CIFAR-10 dataset"
      ]
    },
    {
      "metadata": {
        "id": "v081KP7jiqie",
        "colab_type": "text"
      },
      "cell_type": "markdown",
      "source": [
        "## Import libraries"
      ]
    },
    {
      "metadata": {
        "id": "APJBes2jr7ll",
        "colab_type": "code",
        "colab": {}
      },
      "cell_type": "code",
      "source": [
        "%matplotlib inline\n",
        "from keras.datasets import cifar10\n",
        "from keras.models import Sequential\n",
        "from keras.layers import Dense, Activation\n",
        "from keras.layers.convolutional import Conv2D, MaxPooling2D\n",
        "from keras.layers import Flatten, Dropout, BatchNormalization\n",
        "from keras.utils import to_categorical\n",
        "import matplotlib.pyplot as plt\n",
        "import numpy as np"
      ],
      "execution_count": 0,
      "outputs": []
    },
    {
      "metadata": {
        "id": "nvjnhpmir7mI",
        "colab_type": "code",
        "colab": {}
      },
      "cell_type": "code",
      "source": [
        "np.random.seed(42)"
      ],
      "execution_count": 0,
      "outputs": []
    },
    {
      "metadata": {
        "colab_type": "text",
        "id": "R4RialuwF1g7"
      },
      "cell_type": "markdown",
      "source": [
        "##  Load the dataset"
      ]
    },
    {
      "metadata": {
        "colab_type": "code",
        "id": "5C7Cht8rF1g_",
        "colab": {}
      },
      "cell_type": "code",
      "source": [
        "(X_train, y_train), (X_test, y_test) = cifar10.load_data()"
      ],
      "execution_count": 0,
      "outputs": []
    },
    {
      "metadata": {
        "colab_type": "text",
        "id": "Xnr6XIy8F1hH"
      },
      "cell_type": "markdown",
      "source": [
        "## Preprocessing Data"
      ]
    },
    {
      "metadata": {
        "colab_type": "text",
        "id": "sDCX3poqF1hK"
      },
      "cell_type": "markdown",
      "source": [
        "### Data Normalization"
      ]
    },
    {
      "metadata": {
        "colab_type": "code",
        "id": "4XlJ3rLjF1hN",
        "colab": {}
      },
      "cell_type": "code",
      "source": [
        "X_train = X_train.astype('float32')\n",
        "X_test = X_test.astype('float32')\n",
        "X_train = X_train/255\n",
        "X_test = X_test/255"
      ],
      "execution_count": 0,
      "outputs": []
    },
    {
      "metadata": {
        "colab_type": "text",
        "id": "Ur7GCWNVF1hS"
      },
      "cell_type": "markdown",
      "source": [
        "### Categorical Encoding"
      ]
    },
    {
      "metadata": {
        "colab_type": "code",
        "id": "5LFYP1eoF1hU",
        "colab": {}
      },
      "cell_type": "code",
      "source": [
        "y_train = to_categorical(y_train, num_classes=10)\n",
        "y_test = to_categorical(y_test, num_classes=10)"
      ],
      "execution_count": 0,
      "outputs": []
    },
    {
      "metadata": {
        "id": "JutWvyHlGK_R",
        "colab_type": "text"
      },
      "cell_type": "markdown",
      "source": [
        "## Define the Model"
      ]
    },
    {
      "metadata": {
        "id": "Bt1gCqRLr7nl",
        "colab_type": "code",
        "colab": {}
      },
      "cell_type": "code",
      "source": [
        "model1 = Sequential()\n",
        "model1.add(Conv2D(32,(3, 3), input_shape=(X_train.shape[1:])))\n",
        "model1.add(Conv2D(32,(3, 3)))\n",
        "model1.add(MaxPooling2D(pool_size=(2, 2)))\n",
        "\n",
        "model1.add(Conv2D(64, (3, 3)))\n",
        "model1.add(Conv2D(64, (3,3)))\n",
        "model1.add(MaxPooling2D(pool_size=(2, 2)))\n",
        "\n",
        "\n",
        "model1.add(Flatten())\n",
        "model1.add(Dense(256))\n",
        "model1.add(Activation('relu'))\n",
        "model1.add(Dropout(0.5))\n",
        "model1.add(Dense(256))\n",
        "model1.add(Activation('relu'))\n",
        "model1.add(Dropout(0.5))\n",
        "          \n",
        "model1.add(Dense(10))\n",
        "model1.add(Activation('softmax'))"
      ],
      "execution_count": 0,
      "outputs": []
    },
    {
      "metadata": {
        "colab_type": "text",
        "id": "iAoJGpEGGxCI"
      },
      "cell_type": "markdown",
      "source": [
        "## Compiling the model"
      ]
    },
    {
      "metadata": {
        "colab_type": "code",
        "id": "yOQjQHM6GxCJ",
        "colab": {}
      },
      "cell_type": "code",
      "source": [
        "model1.compile(optimizer='adam', loss='categorical_crossentropy', metrics=['accuracy'])"
      ],
      "execution_count": 0,
      "outputs": []
    },
    {
      "metadata": {
        "colab_type": "text",
        "id": "NwgmlFwQGxCL"
      },
      "cell_type": "markdown",
      "source": [
        "## Fit the model"
      ]
    },
    {
      "metadata": {
        "colab_type": "text",
        "id": "d5FJKLzyGxCO"
      },
      "cell_type": "markdown",
      "source": [
        "### Creating Early stopping callback"
      ]
    },
    {
      "metadata": {
        "colab_type": "code",
        "id": "BqGBH5C0GxCO",
        "colab": {}
      },
      "cell_type": "code",
      "source": [
        "from keras.callbacks import EarlyStopping\n",
        "stop_monitor = EarlyStopping(patience = 3)"
      ],
      "execution_count": 0,
      "outputs": []
    },
    {
      "metadata": {
        "colab_type": "text",
        "id": "pXVSUurZGxCU"
      },
      "cell_type": "markdown",
      "source": [
        "### Model Training"
      ]
    },
    {
      "metadata": {
        "colab_type": "code",
        "outputId": "f75ef971-91df-43d1-b0e4-7b3e2086b35c",
        "id": "6urKCpGPGxCX",
        "colab": {
          "base_uri": "https://localhost:8080/",
          "height": 527
        }
      },
      "cell_type": "code",
      "source": [
        "model1.fit(X_train, y_train, epochs=250, batch_size=128, validation_split=0.25, callbacks=[stop_monitor])"
      ],
      "execution_count": 0,
      "outputs": [
        {
          "output_type": "stream",
          "text": [
            "Train on 37500 samples, validate on 12500 samples\n",
            "Epoch 1/250\n",
            "37500/37500 [==============================] - 11s 298us/step - loss: 1.7465 - acc: 0.3642 - val_loss: 1.3977 - val_acc: 0.5102\n",
            "Epoch 2/250\n",
            "37500/37500 [==============================] - 10s 256us/step - loss: 1.3620 - acc: 0.5175 - val_loss: 1.1388 - val_acc: 0.6023\n",
            "Epoch 3/250\n",
            "37500/37500 [==============================] - 9s 252us/step - loss: 1.1801 - acc: 0.5914 - val_loss: 1.0446 - val_acc: 0.6388\n",
            "Epoch 4/250\n",
            "37500/37500 [==============================] - 9s 252us/step - loss: 1.0860 - acc: 0.6232 - val_loss: 0.9905 - val_acc: 0.6513\n",
            "Epoch 5/250\n",
            "37500/37500 [==============================] - 9s 247us/step - loss: 1.0121 - acc: 0.6494 - val_loss: 0.9695 - val_acc: 0.6645\n",
            "Epoch 6/250\n",
            "37500/37500 [==============================] - 9s 249us/step - loss: 0.9536 - acc: 0.6681 - val_loss: 0.9343 - val_acc: 0.6806\n",
            "Epoch 7/250\n",
            "37500/37500 [==============================] - 9s 251us/step - loss: 0.8999 - acc: 0.6878 - val_loss: 0.8915 - val_acc: 0.6914\n",
            "Epoch 8/250\n",
            "37500/37500 [==============================] - 9s 253us/step - loss: 0.8637 - acc: 0.6998 - val_loss: 0.8921 - val_acc: 0.6923\n",
            "Epoch 9/250\n",
            "37500/37500 [==============================] - 9s 251us/step - loss: 0.8186 - acc: 0.7180 - val_loss: 0.8758 - val_acc: 0.7021\n",
            "Epoch 10/250\n",
            "37500/37500 [==============================] - 9s 251us/step - loss: 0.7738 - acc: 0.7310 - val_loss: 0.8630 - val_acc: 0.7010\n",
            "Epoch 11/250\n",
            "37500/37500 [==============================] - 9s 250us/step - loss: 0.7324 - acc: 0.7439 - val_loss: 0.8585 - val_acc: 0.7076\n",
            "Epoch 12/250\n",
            "37500/37500 [==============================] - 9s 248us/step - loss: 0.7040 - acc: 0.7549 - val_loss: 0.8910 - val_acc: 0.7022\n",
            "Epoch 13/250\n",
            "37500/37500 [==============================] - 9s 248us/step - loss: 0.6683 - acc: 0.7674 - val_loss: 0.9032 - val_acc: 0.6963\n",
            "Epoch 14/250\n",
            "37500/37500 [==============================] - 9s 249us/step - loss: 0.6430 - acc: 0.7731 - val_loss: 0.8999 - val_acc: 0.6970\n"
          ],
          "name": "stdout"
        },
        {
          "output_type": "execute_result",
          "data": {
            "text/plain": [
              "<keras.callbacks.History at 0x7fd344a855c0>"
            ]
          },
          "metadata": {
            "tags": []
          },
          "execution_count": 100
        }
      ]
    },
    {
      "metadata": {
        "colab_type": "text",
        "id": "EYNyR18wGxCg"
      },
      "cell_type": "markdown",
      "source": [
        "## Evaluate"
      ]
    },
    {
      "metadata": {
        "colab_type": "code",
        "outputId": "4967eec2-c3db-47b3-9fa0-59abbec63070",
        "id": "s6lHzeXZH_Sc",
        "colab": {
          "base_uri": "https://localhost:8080/",
          "height": 85
        }
      },
      "cell_type": "code",
      "source": [
        "training_scores = model1.evaluate(X_train, y_train)\n",
        "test_scores = model1.evaluate(X_test, y_test)\n",
        "print(\"Training accuracy: {:.2f}%\".format(training_scores[1]*100))\n",
        "print(\"Test accuracy: {:.2f}%\".format(test_scores[1]*100))"
      ],
      "execution_count": 0,
      "outputs": [
        {
          "output_type": "stream",
          "text": [
            "50000/50000 [==============================] - 7s 149us/step\n",
            "10000/10000 [==============================] - 2s 150us/step\n",
            "Training accuracy: 82.78%\n",
            "Test accuracy: 69.65%\n"
          ],
          "name": "stdout"
        }
      ]
    }
  ]
}