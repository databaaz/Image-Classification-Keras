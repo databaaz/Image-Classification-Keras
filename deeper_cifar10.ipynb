{
  "nbformat": 4,
  "nbformat_minor": 0,
  "metadata": {
    "colab": {
      "name": "deeper_cifar10.ipynb",
      "version": "0.3.2",
      "provenance": [],
      "include_colab_link": true
    },
    "kernelspec": {
      "name": "python3",
      "display_name": "Python 3"
    },
    "accelerator": "GPU"
  },
  "cells": [
    {
      "cell_type": "markdown",
      "metadata": {
        "id": "view-in-github",
        "colab_type": "text"
      },
      "source": [
        "<a href=\"https://colab.research.google.com/github/databaaz/Image-Classification-Keras/blob/master/deeper_cifar10.ipynb\" target=\"_parent\"><img src=\"https://colab.research.google.com/assets/colab-badge.svg\" alt=\"Open In Colab\"/></a>"
      ]
    },
    {
      "metadata": {
        "id": "2tzVkJmmr7oO",
        "colab_type": "text"
      },
      "cell_type": "markdown",
      "source": [
        "# Even deeper network"
      ]
    },
    {
      "metadata": {
        "id": "v081KP7jiqie",
        "colab_type": "text"
      },
      "cell_type": "markdown",
      "source": [
        "## Import libraries"
      ]
    },
    {
      "metadata": {
        "id": "APJBes2jr7ll",
        "colab_type": "code",
        "outputId": "70716d2c-9d2b-4986-92cb-a1df6b548cf9",
        "colab": {
          "base_uri": "https://localhost:8080/",
          "height": 34
        }
      },
      "cell_type": "code",
      "source": [
        "%matplotlib inline\n",
        "from keras.datasets import cifar10\n",
        "from keras.models import Sequential\n",
        "from keras.layers import Dense, Activation\n",
        "from keras.layers.convolutional import Conv2D, MaxPooling2D\n",
        "from keras.layers import Flatten, Dropout, BatchNormalization\n",
        "from keras.utils import to_categorical\n",
        "import matplotlib.pyplot as plt\n",
        "import numpy as np"
      ],
      "execution_count": 1,
      "outputs": [
        {
          "output_type": "stream",
          "text": [
            "Using TensorFlow backend.\n"
          ],
          "name": "stderr"
        }
      ]
    },
    {
      "metadata": {
        "id": "nvjnhpmir7mI",
        "colab_type": "code",
        "colab": {}
      },
      "cell_type": "code",
      "source": [
        "np.random.seed(42)"
      ],
      "execution_count": 0,
      "outputs": []
    },
    {
      "metadata": {
        "colab_type": "text",
        "id": "Bfk2yslMKzTe"
      },
      "cell_type": "markdown",
      "source": [
        "##  Load the dataset"
      ]
    },
    {
      "metadata": {
        "colab_type": "code",
        "id": "InyCimhDKzTj",
        "colab": {
          "base_uri": "https://localhost:8080/",
          "height": 52
        },
        "outputId": "98d7dc12-670a-4c4e-aece-f3c28327a4fa"
      },
      "cell_type": "code",
      "source": [
        "(X_train, y_train), (X_test, y_test) = cifar10.load_data()"
      ],
      "execution_count": 3,
      "outputs": [
        {
          "output_type": "stream",
          "text": [
            "Downloading data from https://www.cs.toronto.edu/~kriz/cifar-10-python.tar.gz\n",
            "170500096/170498071 [==============================] - 43s 0us/step\n"
          ],
          "name": "stdout"
        }
      ]
    },
    {
      "metadata": {
        "colab_type": "text",
        "id": "1zx-Eir_KzTo"
      },
      "cell_type": "markdown",
      "source": [
        "## Preprocessing Data"
      ]
    },
    {
      "metadata": {
        "colab_type": "text",
        "id": "rWX3IRyeKzTq"
      },
      "cell_type": "markdown",
      "source": [
        "### Data Normalization"
      ]
    },
    {
      "metadata": {
        "colab_type": "code",
        "id": "YvEAqpK-KzTs",
        "colab": {}
      },
      "cell_type": "code",
      "source": [
        "X_train = X_train.astype('float32')\n",
        "X_test = X_test.astype('float32')\n",
        "X_train = X_train/255\n",
        "X_test = X_test/255"
      ],
      "execution_count": 0,
      "outputs": []
    },
    {
      "metadata": {
        "colab_type": "text",
        "id": "FReguheiKzTw"
      },
      "cell_type": "markdown",
      "source": [
        "### Categorical Encoding"
      ]
    },
    {
      "metadata": {
        "colab_type": "code",
        "id": "qb8vL4HrKzTw",
        "colab": {}
      },
      "cell_type": "code",
      "source": [
        "y_train = to_categorical(y_train, num_classes=10)\n",
        "y_test = to_categorical(y_test, num_classes=10)"
      ],
      "execution_count": 0,
      "outputs": []
    },
    {
      "metadata": {
        "id": "zUwYcKCKK3yh",
        "colab_type": "text"
      },
      "cell_type": "markdown",
      "source": [
        "## Define the Model"
      ]
    },
    {
      "metadata": {
        "id": "brl6SsPYr7oQ",
        "colab_type": "code",
        "colab": {}
      },
      "cell_type": "code",
      "source": [
        "model = Sequential()\n",
        "model.add(Conv2D(48, (3, 3), padding='same', input_shape=(32, 32, 3)))\n",
        "model.add(Activation('relu'))\n",
        "model.add(BatchNormalization())\n",
        "model.add(Conv2D(48, (3, 3)))\n",
        "model.add(Activation('relu'))\n",
        "model.add(BatchNormalization())\n",
        "model.add(MaxPooling2D(pool_size=(2, 2)))\n",
        "model.add(Dropout(0.25))\n",
        "\n",
        "model.add(Conv2D(96, (3, 3), padding='same'))\n",
        "model.add(Activation('relu'))\n",
        "model.add(BatchNormalization())\n",
        "model.add(Conv2D(96, (3, 3)))\n",
        "model.add(Activation('relu'))\n",
        "model.add(BatchNormalization())\n",
        "model.add(MaxPooling2D(pool_size=(2, 2)))\n",
        "model.add(Dropout(0.25))\n",
        "\n",
        "model.add(Conv2D(192, (3, 3), padding='same'))\n",
        "model.add(Activation('relu'))\n",
        "model.add(BatchNormalization())\n",
        "model.add(Conv2D(192, (3, 3)))\n",
        "model.add(Activation('relu'))\n",
        "model.add(BatchNormalization())\n",
        "model.add(MaxPooling2D(pool_size=(2, 2)))\n",
        "model.add(Dropout(0.25))\n",
        "\n",
        "model.add(Flatten())\n",
        "model.add(Dense(512))\n",
        "model.add(Activation('relu'))\n",
        "model.add(BatchNormalization())\n",
        "model.add(Dropout(0.5))\n",
        "model.add(Dense(256))\n",
        "model.add(Activation('relu'))\n",
        "model.add(BatchNormalization())\n",
        "model.add(Dropout(0.5))\n",
        "model.add(Dense(10))\n",
        "model.add(Activation('softmax'))"
      ],
      "execution_count": 0,
      "outputs": []
    },
    {
      "metadata": {
        "colab_type": "text",
        "id": "R1Fb1hfWLHVE"
      },
      "cell_type": "markdown",
      "source": [
        "## Compiling the model"
      ]
    },
    {
      "metadata": {
        "colab_type": "code",
        "id": "GDvu0AWRLHVJ",
        "colab": {}
      },
      "cell_type": "code",
      "source": [
        "model.compile(optimizer='adam', loss='categorical_crossentropy', metrics=['accuracy'])"
      ],
      "execution_count": 0,
      "outputs": []
    },
    {
      "metadata": {
        "colab_type": "text",
        "id": "v6W14CdULHVR"
      },
      "cell_type": "markdown",
      "source": [
        "## Fit the model"
      ]
    },
    {
      "metadata": {
        "colab_type": "text",
        "id": "88tVR3WiLHVU"
      },
      "cell_type": "markdown",
      "source": [
        "### Creating Early stopping callback"
      ]
    },
    {
      "metadata": {
        "colab_type": "code",
        "id": "ZJg2m__8LHVW",
        "colab": {}
      },
      "cell_type": "code",
      "source": [
        "from keras.callbacks import EarlyStopping\n",
        "stop_monitor = EarlyStopping(patience = 10)"
      ],
      "execution_count": 0,
      "outputs": []
    },
    {
      "metadata": {
        "colab_type": "text",
        "id": "qvIOdeciLHVe"
      },
      "cell_type": "markdown",
      "source": [
        "### Model Training"
      ]
    },
    {
      "metadata": {
        "colab_type": "code",
        "outputId": "b7931b33-4d74-4803-fd0c-d244478c31fb",
        "id": "9djRKrfOLHVj",
        "colab": {
          "base_uri": "https://localhost:8080/",
          "height": 905
        }
      },
      "cell_type": "code",
      "source": [
        "model.fit(X_train, y_train, epochs=100, batch_size=128, validation_split=0.25, callbacks=[stop_monitor])"
      ],
      "execution_count": 10,
      "outputs": [
        {
          "output_type": "stream",
          "text": [
            "Train on 37500 samples, validate on 12500 samples\n",
            "Epoch 1/100\n",
            "37500/37500 [==============================] - 28s 739us/step - loss: 1.9437 - acc: 0.3525 - val_loss: 2.1911 - val_acc: 0.3516\n",
            "Epoch 2/100\n",
            "37500/37500 [==============================] - 23s 604us/step - loss: 1.2973 - acc: 0.5417 - val_loss: 1.2540 - val_acc: 0.5626\n",
            "Epoch 3/100\n",
            "37500/37500 [==============================] - 23s 602us/step - loss: 1.0549 - acc: 0.6265 - val_loss: 0.9494 - val_acc: 0.6701\n",
            "Epoch 4/100\n",
            "37500/37500 [==============================] - 23s 601us/step - loss: 0.9045 - acc: 0.6818 - val_loss: 1.0092 - val_acc: 0.6731\n",
            "Epoch 5/100\n",
            "37500/37500 [==============================] - 23s 602us/step - loss: 0.7922 - acc: 0.7232 - val_loss: 0.8673 - val_acc: 0.7030\n",
            "Epoch 6/100\n",
            "37500/37500 [==============================] - 23s 608us/step - loss: 0.7174 - acc: 0.7541 - val_loss: 0.7119 - val_acc: 0.7519\n",
            "Epoch 7/100\n",
            "37500/37500 [==============================] - 23s 610us/step - loss: 0.6398 - acc: 0.7769 - val_loss: 0.6754 - val_acc: 0.7668\n",
            "Epoch 8/100\n",
            "37500/37500 [==============================] - 23s 608us/step - loss: 0.5935 - acc: 0.7975 - val_loss: 0.7157 - val_acc: 0.7674\n",
            "Epoch 9/100\n",
            "37500/37500 [==============================] - 23s 606us/step - loss: 0.5464 - acc: 0.8133 - val_loss: 0.6674 - val_acc: 0.7766\n",
            "Epoch 10/100\n",
            "37500/37500 [==============================] - 23s 606us/step - loss: 0.5006 - acc: 0.8287 - val_loss: 0.6011 - val_acc: 0.7970\n",
            "Epoch 11/100\n",
            "37500/37500 [==============================] - 23s 606us/step - loss: 0.4606 - acc: 0.8401 - val_loss: 0.6780 - val_acc: 0.7789\n",
            "Epoch 12/100\n",
            "37500/37500 [==============================] - 23s 606us/step - loss: 0.4341 - acc: 0.8502 - val_loss: 0.6371 - val_acc: 0.7908\n",
            "Epoch 13/100\n",
            "37500/37500 [==============================] - 23s 606us/step - loss: 0.3979 - acc: 0.8641 - val_loss: 0.6864 - val_acc: 0.7916\n",
            "Epoch 14/100\n",
            "37500/37500 [==============================] - 23s 606us/step - loss: 0.3732 - acc: 0.8723 - val_loss: 0.5511 - val_acc: 0.8213\n",
            "Epoch 15/100\n",
            "37500/37500 [==============================] - 23s 606us/step - loss: 0.3486 - acc: 0.8801 - val_loss: 0.6080 - val_acc: 0.8088\n",
            "Epoch 16/100\n",
            "37500/37500 [==============================] - 23s 608us/step - loss: 0.3266 - acc: 0.8870 - val_loss: 0.7615 - val_acc: 0.7728\n",
            "Epoch 17/100\n",
            "37500/37500 [==============================] - 23s 605us/step - loss: 0.3029 - acc: 0.8959 - val_loss: 0.5996 - val_acc: 0.8172\n",
            "Epoch 18/100\n",
            "37500/37500 [==============================] - 23s 604us/step - loss: 0.2840 - acc: 0.9027 - val_loss: 0.6414 - val_acc: 0.8075\n",
            "Epoch 19/100\n",
            "37500/37500 [==============================] - 23s 608us/step - loss: 0.2661 - acc: 0.9078 - val_loss: 0.5604 - val_acc: 0.8293\n",
            "Epoch 20/100\n",
            "37500/37500 [==============================] - 23s 607us/step - loss: 0.2475 - acc: 0.9151 - val_loss: 0.5867 - val_acc: 0.8253\n",
            "Epoch 21/100\n",
            "37500/37500 [==============================] - 23s 607us/step - loss: 0.2343 - acc: 0.9197 - val_loss: 0.6654 - val_acc: 0.8110\n",
            "Epoch 22/100\n",
            "37500/37500 [==============================] - 23s 607us/step - loss: 0.2246 - acc: 0.9238 - val_loss: 0.5873 - val_acc: 0.8339\n",
            "Epoch 23/100\n",
            "37500/37500 [==============================] - 23s 605us/step - loss: 0.2052 - acc: 0.9298 - val_loss: 0.6060 - val_acc: 0.8323\n",
            "Epoch 24/100\n",
            "37500/37500 [==============================] - 23s 604us/step - loss: 0.1963 - acc: 0.9328 - val_loss: 0.6752 - val_acc: 0.8138\n"
          ],
          "name": "stdout"
        },
        {
          "output_type": "execute_result",
          "data": {
            "text/plain": [
              "<keras.callbacks.History at 0x7f9f30a13358>"
            ]
          },
          "metadata": {
            "tags": []
          },
          "execution_count": 10
        }
      ]
    },
    {
      "metadata": {
        "colab_type": "text",
        "id": "bDYFLhQ5LHVy"
      },
      "cell_type": "markdown",
      "source": [
        "## Evaluate"
      ]
    },
    {
      "metadata": {
        "colab_type": "code",
        "outputId": "eff23db7-6a50-43b4-f7d0-4f546cbe4d48",
        "id": "wMHim9-iLHV0",
        "colab": {
          "base_uri": "https://localhost:8080/",
          "height": 87
        }
      },
      "cell_type": "code",
      "source": [
        "training_scores = model.evaluate(X_train, y_train)\n",
        "test_scores = model.evaluate(X_test, y_test)\n",
        "print(\"Training accuracy: {:.2f}%\".format(training_scores[1]*100))\n",
        "print(\"Test accuracy: {:.2f}%\".format(test_scores[1]*100))"
      ],
      "execution_count": 11,
      "outputs": [
        {
          "output_type": "stream",
          "text": [
            "50000/50000 [==============================] - 15s 307us/step\n",
            "10000/10000 [==============================] - 3s 288us/step\n",
            "Training accuracy: 92.18%\n",
            "Test accuracy: 80.57%\n"
          ],
          "name": "stdout"
        }
      ]
    },
    {
      "metadata": {
        "id": "PfgJ3k1NCHDc",
        "colab_type": "code",
        "colab": {}
      },
      "cell_type": "code",
      "source": [
        ""
      ],
      "execution_count": 0,
      "outputs": []
    }
  ]
}