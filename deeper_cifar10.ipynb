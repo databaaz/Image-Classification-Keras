{
  "nbformat": 4,
  "nbformat_minor": 0,
  "metadata": {
    "colab": {
      "name": "deeper_cifar10.ipynb",
      "version": "0.3.2",
      "provenance": [],
      "include_colab_link": true
    },
    "kernelspec": {
      "name": "python3",
      "display_name": "Python 3"
    }
  },
  "cells": [
    {
      "cell_type": "markdown",
      "metadata": {
        "id": "view-in-github",
        "colab_type": "text"
      },
      "source": [
        "<a href=\"https://colab.research.google.com/github/databaaz/Image-Classification-Keras/blob/master/deeper_cifar10.ipynb\" target=\"_parent\"><img src=\"https://colab.research.google.com/assets/colab-badge.svg\" alt=\"Open In Colab\"/></a>"
      ]
    },
    {
      "metadata": {
        "id": "2tzVkJmmr7oO",
        "colab_type": "text"
      },
      "cell_type": "markdown",
      "source": [
        "# Even deeper network"
      ]
    },
    {
      "metadata": {
        "id": "v081KP7jiqie",
        "colab_type": "text"
      },
      "cell_type": "markdown",
      "source": [
        "## Import libraries"
      ]
    },
    {
      "metadata": {
        "id": "APJBes2jr7ll",
        "colab_type": "code",
        "colab": {
          "base_uri": "https://localhost:8080/",
          "height": 34
        },
        "outputId": "d515cf23-6fa2-4533-beef-4928a225bb24"
      },
      "cell_type": "code",
      "source": [
        "%matplotlib inline\n",
        "from keras.datasets import cifar10\n",
        "from keras.models import Sequential\n",
        "from keras.layers import Dense, Activation\n",
        "from keras.layers.convolutional import Conv2D, MaxPooling2D\n",
        "from keras.layers import Flatten, Dropout, BatchNormalization\n",
        "from keras.utils import to_categorical\n",
        "import matplotlib.pyplot as plt\n",
        "import numpy as np"
      ],
      "execution_count": 2,
      "outputs": [
        {
          "output_type": "stream",
          "text": [
            "Using TensorFlow backend.\n"
          ],
          "name": "stderr"
        }
      ]
    },
    {
      "metadata": {
        "id": "nvjnhpmir7mI",
        "colab_type": "code",
        "colab": {}
      },
      "cell_type": "code",
      "source": [
        "np.random.seed(42)"
      ],
      "execution_count": 0,
      "outputs": []
    },
    {
      "metadata": {
        "colab_type": "text",
        "id": "Bfk2yslMKzTe"
      },
      "cell_type": "markdown",
      "source": [
        "##  Load the dataset"
      ]
    },
    {
      "metadata": {
        "colab_type": "code",
        "id": "InyCimhDKzTj",
        "colab": {}
      },
      "cell_type": "code",
      "source": [
        "(X_train, y_train), (X_test, y_test) = cifar10.load_data()"
      ],
      "execution_count": 0,
      "outputs": []
    },
    {
      "metadata": {
        "colab_type": "text",
        "id": "1zx-Eir_KzTo"
      },
      "cell_type": "markdown",
      "source": [
        "## Preprocessing Data"
      ]
    },
    {
      "metadata": {
        "colab_type": "text",
        "id": "rWX3IRyeKzTq"
      },
      "cell_type": "markdown",
      "source": [
        "### Data Normalization"
      ]
    },
    {
      "metadata": {
        "colab_type": "code",
        "id": "YvEAqpK-KzTs",
        "colab": {}
      },
      "cell_type": "code",
      "source": [
        "X_train = X_train.astype('float32')\n",
        "X_test = X_test.astype('float32')\n",
        "X_train = X_train/255\n",
        "X_test = X_test/255"
      ],
      "execution_count": 0,
      "outputs": []
    },
    {
      "metadata": {
        "colab_type": "text",
        "id": "FReguheiKzTw"
      },
      "cell_type": "markdown",
      "source": [
        "### Categorical Encoding"
      ]
    },
    {
      "metadata": {
        "colab_type": "code",
        "id": "qb8vL4HrKzTw",
        "colab": {}
      },
      "cell_type": "code",
      "source": [
        "y_train = to_categorical(y_train, num_classes=10)\n",
        "y_test = to_categorical(y_test, num_classes=10)"
      ],
      "execution_count": 0,
      "outputs": []
    },
    {
      "metadata": {
        "id": "zUwYcKCKK3yh",
        "colab_type": "text"
      },
      "cell_type": "markdown",
      "source": [
        "## Define the Model"
      ]
    },
    {
      "metadata": {
        "id": "brl6SsPYr7oQ",
        "colab_type": "code",
        "colab": {}
      },
      "cell_type": "code",
      "source": [
        "model = Sequential()\n",
        "model.add(Conv2D(48, (3, 3), padding='same', input_shape=(32, 32, 3)))\n",
        "model.add(BatchNormalization())\n",
        "model.add(Activation('relu'))\n",
        "model.add(Conv2D(48, (3, 3)))\n",
        "model.add(BatchNormalization())\n",
        "model.add(Activation('relu'))\n",
        "model.add(MaxPooling2D(pool_size=(2, 2)))\n",
        "model.add(Dropout(0.25))\n",
        "\n",
        "model.add(Conv2D(96, (3, 3), padding='same'))\n",
        "model.add(BatchNormalization())\n",
        "model.add(Activation('relu'))\n",
        "model.add(Conv2D(96, (3, 3)))\n",
        "model.add(BatchNormalization())\n",
        "model.add(Activation('relu'))\n",
        "model.add(MaxPooling2D(pool_size=(2, 2)))\n",
        "model.add(Dropout(0.25))\n",
        "\n",
        "model.add(Conv2D(192, (3, 3), padding='same'))\n",
        "model.add(BatchNormalization())\n",
        "model.add(Activation('relu'))\n",
        "model.add(Conv2D(192, (3, 3)))\n",
        "model.add(BatchNormalization())\n",
        "model.add(Activation('relu'))\n",
        "model.add(MaxPooling2D(pool_size=(2, 2)))\n",
        "model.add(Dropout(0.25))\n",
        "\n",
        "model.add(Flatten())\n",
        "model.add(Dense(512))\n",
        "model.add(BatchNormalization())\n",
        "model.add(Activation('relu'))\n",
        "model.add(Dropout(0.5))\n",
        "model.add(Dense(256))\n",
        "model.add(BatchNormalization())\n",
        "model.add(Activation('relu'))\n",
        "model.add(Dropout(0.5))\n",
        "model.add(Dense(10))\n",
        "model.add(BatchNormalization())\n",
        "model.add(Activation('softmax'))"
      ],
      "execution_count": 0,
      "outputs": []
    },
    {
      "metadata": {
        "colab_type": "text",
        "id": "R1Fb1hfWLHVE"
      },
      "cell_type": "markdown",
      "source": [
        "## Compiling the model"
      ]
    },
    {
      "metadata": {
        "colab_type": "code",
        "id": "GDvu0AWRLHVJ",
        "colab": {}
      },
      "cell_type": "code",
      "source": [
        "model.compile(optimizer='adam', loss='categorical_crossentropy', metrics=['accuracy'])"
      ],
      "execution_count": 0,
      "outputs": []
    },
    {
      "metadata": {
        "colab_type": "text",
        "id": "v6W14CdULHVR"
      },
      "cell_type": "markdown",
      "source": [
        "## Fit the model"
      ]
    },
    {
      "metadata": {
        "colab_type": "text",
        "id": "88tVR3WiLHVU"
      },
      "cell_type": "markdown",
      "source": [
        "### Creating Early stopping callback"
      ]
    },
    {
      "metadata": {
        "colab_type": "code",
        "id": "ZJg2m__8LHVW",
        "colab": {}
      },
      "cell_type": "code",
      "source": [
        "from keras.callbacks import EarlyStopping\n",
        "stop_monitor = EarlyStopping(patience = 3)"
      ],
      "execution_count": 0,
      "outputs": []
    },
    {
      "metadata": {
        "colab_type": "text",
        "id": "qvIOdeciLHVe"
      },
      "cell_type": "markdown",
      "source": [
        "### Model Training"
      ]
    },
    {
      "metadata": {
        "colab_type": "code",
        "outputId": "fb211f93-9fb6-4c22-f0b3-3132f1eeb8d5",
        "id": "9djRKrfOLHVj",
        "colab": {
          "base_uri": "https://localhost:8080/",
          "height": 391
        }
      },
      "cell_type": "code",
      "source": [
        "model.fit(X_train, y_train, epochs=100, batch_size=128, validation_split=0.25, callbacks=[stop_monitor])"
      ],
      "execution_count": 0,
      "outputs": [
        {
          "output_type": "stream",
          "text": [
            "Train on 37500 samples, validate on 12500 samples\n",
            "Epoch 1/100\n",
            "37500/37500 [==============================] - 34s 907us/step - loss: 1.6828 - acc: 0.3946 - val_loss: 1.5214 - val_acc: 0.4549\n",
            "Epoch 2/100\n",
            "37500/37500 [==============================] - 26s 681us/step - loss: 1.2362 - acc: 0.5873 - val_loss: 1.1473 - val_acc: 0.6054\n",
            "Epoch 3/100\n",
            "37500/37500 [==============================] - 25s 672us/step - loss: 1.0065 - acc: 0.6715 - val_loss: 1.1273 - val_acc: 0.6164\n",
            "Epoch 4/100\n",
            "37500/37500 [==============================] - 25s 669us/step - loss: 0.8761 - acc: 0.7175 - val_loss: 0.9554 - val_acc: 0.6762\n",
            "Epoch 5/100\n",
            "37500/37500 [==============================] - 25s 657us/step - loss: 0.7823 - acc: 0.7479 - val_loss: 0.8887 - val_acc: 0.6984\n",
            "Epoch 6/100\n",
            "37500/37500 [==============================] - 25s 664us/step - loss: 0.7110 - acc: 0.7712 - val_loss: 0.7158 - val_acc: 0.7614\n",
            "Epoch 7/100\n",
            "37500/37500 [==============================] - 25s 665us/step - loss: 0.6547 - acc: 0.7903 - val_loss: 0.6624 - val_acc: 0.7793\n",
            "Epoch 8/100\n",
            "37500/37500 [==============================] - 25s 663us/step - loss: 0.6055 - acc: 0.8051 - val_loss: 0.7833 - val_acc: 0.7439\n",
            "Epoch 9/100\n",
            "37500/37500 [==============================] - 25s 664us/step - loss: 0.5664 - acc: 0.8197 - val_loss: 0.7825 - val_acc: 0.7432\n",
            "Epoch 10/100\n",
            "37500/37500 [==============================] - 25s 665us/step - loss: 0.5276 - acc: 0.8316 - val_loss: 0.7735 - val_acc: 0.7474\n"
          ],
          "name": "stdout"
        },
        {
          "output_type": "execute_result",
          "data": {
            "text/plain": [
              "<keras.callbacks.History at 0x7fd32c19e0f0>"
            ]
          },
          "metadata": {
            "tags": []
          },
          "execution_count": 140
        }
      ]
    },
    {
      "metadata": {
        "colab_type": "text",
        "id": "bDYFLhQ5LHVy"
      },
      "cell_type": "markdown",
      "source": [
        "## Evaluate"
      ]
    },
    {
      "metadata": {
        "colab_type": "code",
        "outputId": "b090996e-3632-4247-f7c6-d044744dcc11",
        "id": "wMHim9-iLHV0",
        "colab": {
          "base_uri": "https://localhost:8080/",
          "height": 85
        }
      },
      "cell_type": "code",
      "source": [
        "training_scores = model.evaluate(X_train, y_train)\n",
        "test_scores = model.evaluate(X_test, y_test)\n",
        "print(\"Training accuracy: {:.2f}%\".format(training_scores[1]*100))\n",
        "print(\"Test accuracy: {:.2f}%\".format(test_scores[1]*100))"
      ],
      "execution_count": 0,
      "outputs": [
        {
          "output_type": "stream",
          "text": [
            "50000/50000 [==============================] - 19s 373us/step\n",
            "10000/10000 [==============================] - 4s 371us/step\n",
            "Training accuracy: 78.85%\n",
            "Test accuracy: 74.52%\n"
          ],
          "name": "stdout"
        }
      ]
    }
  ]
}