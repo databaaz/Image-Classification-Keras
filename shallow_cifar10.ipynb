{
  "nbformat": 4,
  "nbformat_minor": 0,
  "metadata": {
    "colab": {
      "name": "shallow_cifar10.ipynb",
      "version": "0.3.2",
      "provenance": []
    },
    "kernelspec": {
      "name": "python3",
      "display_name": "Python 3"
    },
    "accelerator": "GPU"
  },
  "cells": [
    {
      "metadata": {
        "id": "DhdYGWnPFIpu",
        "colab_type": "text"
      },
      "cell_type": "markdown",
      "source": [
        "# Neural net with 2 hidden layers each having 128 neurons for CIFAR-10 dataset"
      ]
    },
    {
      "metadata": {
        "id": "APJBes2jr7ll",
        "colab_type": "code",
        "colab": {}
      },
      "cell_type": "code",
      "source": [
        "%matplotlib inline\n",
        "from keras.datasets import cifar10\n",
        "from keras.models import Sequential\n",
        "from keras.layers import Dense, Activation\n",
        "from keras.utils import to_categorical\n",
        "import matplotlib.pyplot as plt\n",
        "import numpy as np"
      ],
      "execution_count": 0,
      "outputs": []
    },
    {
      "metadata": {
        "id": "nvjnhpmir7mI",
        "colab_type": "code",
        "colab": {}
      },
      "cell_type": "code",
      "source": [
        "np.random.seed(42)"
      ],
      "execution_count": 0,
      "outputs": []
    },
    {
      "metadata": {
        "id": "yfNLLJe3r7mN",
        "colab_type": "text"
      },
      "cell_type": "markdown",
      "source": [
        "##  Load the dataset"
      ]
    },
    {
      "metadata": {
        "id": "KvIa_obCr7mP",
        "colab_type": "code",
        "colab": {}
      },
      "cell_type": "code",
      "source": [
        "(X_train, y_train), (X_test, y_test) = cifar10.load_data()"
      ],
      "execution_count": 0,
      "outputs": []
    },
    {
      "metadata": {
        "id": "8IKPmaW1r7mU",
        "colab_type": "code",
        "colab": {
          "base_uri": "https://localhost:8080/",
          "height": 51
        },
        "outputId": "f7578e0a-2a42-484d-bcec-1ac35e39fdd5"
      },
      "cell_type": "code",
      "source": [
        "print('Train set size : ', X_train.shape[0])\n",
        "print('Test set size : ', X_test.shape[0])"
      ],
      "execution_count": 54,
      "outputs": [
        {
          "output_type": "stream",
          "text": [
            "Train set size :  50000\n",
            "Test set size :  10000\n"
          ],
          "name": "stdout"
        }
      ]
    },
    {
      "metadata": {
        "id": "-XdbbaXUCqQ4",
        "colab_type": "code",
        "colab": {
          "base_uri": "https://localhost:8080/",
          "height": 34
        },
        "outputId": "6b7393c4-3aad-4e56-cdcc-7508e95bde78"
      },
      "cell_type": "code",
      "source": [
        "print(\"Shape of each image: \", X_train.shape[1:])"
      ],
      "execution_count": 55,
      "outputs": [
        {
          "output_type": "stream",
          "text": [
            "Shape of each image:  (32, 32, 3)\n"
          ],
          "name": "stdout"
        }
      ]
    },
    {
      "metadata": {
        "id": "O5wsYl_9_Fr5",
        "colab_type": "text"
      },
      "cell_type": "markdown",
      "source": [
        "## Preprocessing Data"
      ]
    },
    {
      "metadata": {
        "id": "024vZBCs_LYJ",
        "colab_type": "text"
      },
      "cell_type": "markdown",
      "source": [
        "### Data Normalization"
      ]
    },
    {
      "metadata": {
        "id": "EQc62qqer7m0",
        "colab_type": "code",
        "colab": {}
      },
      "cell_type": "code",
      "source": [
        "X_train = X_train.astype('float32')\n",
        "X_test = X_test.astype('float32')\n",
        "X_train = X_train/255\n",
        "X_test = X_test/255"
      ],
      "execution_count": 0,
      "outputs": []
    },
    {
      "metadata": {
        "id": "T0eeBpImCX0n",
        "colab_type": "text"
      },
      "cell_type": "markdown",
      "source": [
        "### Categorical Encoding"
      ]
    },
    {
      "metadata": {
        "id": "WTr_yixgCfga",
        "colab_type": "code",
        "colab": {}
      },
      "cell_type": "code",
      "source": [
        "y_train = to_categorical(y_train, num_classes=10)\n",
        "y_test = to_categorical(y_test, num_classes=10)"
      ],
      "execution_count": 0,
      "outputs": []
    },
    {
      "metadata": {
        "id": "f_xaYlWyr7m4",
        "colab_type": "code",
        "colab": {
          "base_uri": "https://localhost:8080/",
          "height": 34
        },
        "outputId": "533e0357-c966-4437-c211-d8afc085c401"
      },
      "cell_type": "code",
      "source": [
        "print(\"Shape of y_train after one-hot encoding:\", y_train.shape)"
      ],
      "execution_count": 68,
      "outputs": [
        {
          "output_type": "stream",
          "text": [
            "Shape of y_train after one-hot encoding: (50000, 10)\n"
          ],
          "name": "stdout"
        }
      ]
    },
    {
      "metadata": {
        "id": "zwHKdEWB82jE",
        "colab_type": "text"
      },
      "cell_type": "markdown",
      "source": [
        "###  Flattening the pixel values into 1D array"
      ]
    },
    {
      "metadata": {
        "id": "ymwYI5oY80pT",
        "colab_type": "code",
        "colab": {}
      },
      "cell_type": "code",
      "source": [
        "X_train = X_train.reshape((X_train.shape[0],-1))\n",
        "X_test = X_test.reshape((X_test.shape[0],-1))"
      ],
      "execution_count": 0,
      "outputs": []
    },
    {
      "metadata": {
        "id": "ZsvG0dLAFS2C",
        "colab_type": "text"
      },
      "cell_type": "markdown",
      "source": [
        "## Define the model"
      ]
    },
    {
      "metadata": {
        "id": "WEc4OqHjr7nA",
        "colab_type": "code",
        "colab": {}
      },
      "cell_type": "code",
      "source": [
        "model = Sequential([Dense(128, input_shape=(32*32*3,)),\n",
        "                     Activation('relu'),\n",
        "                    Dense(128),\n",
        "                     Activation('relu'),\n",
        "                     Dense(10),\n",
        "                     Activation('softmax')])"
      ],
      "execution_count": 0,
      "outputs": []
    },
    {
      "metadata": {
        "id": "N73Ytsmbr7nH",
        "colab_type": "text"
      },
      "cell_type": "markdown",
      "source": [
        "## Compiling the model"
      ]
    },
    {
      "metadata": {
        "id": "MrOOnElEr7nJ",
        "colab_type": "code",
        "colab": {}
      },
      "cell_type": "code",
      "source": [
        "model.compile(optimizer='adam', loss='categorical_crossentropy', metrics=['accuracy'])"
      ],
      "execution_count": 0,
      "outputs": []
    },
    {
      "metadata": {
        "id": "s11tm5dQr7nO",
        "colab_type": "text"
      },
      "cell_type": "markdown",
      "source": [
        "## Fit the model"
      ]
    },
    {
      "metadata": {
        "id": "w15kq5ndEXtV",
        "colab_type": "text"
      },
      "cell_type": "markdown",
      "source": [
        "### Creating Early stopping callback"
      ]
    },
    {
      "metadata": {
        "id": "Vw474n39Eg4r",
        "colab_type": "code",
        "colab": {}
      },
      "cell_type": "code",
      "source": [
        "from keras.callbacks import EarlyStopping\n",
        "stop_monitor = EarlyStopping(patience = 3)"
      ],
      "execution_count": 0,
      "outputs": []
    },
    {
      "metadata": {
        "id": "-PhqGepzEoMl",
        "colab_type": "text"
      },
      "cell_type": "markdown",
      "source": [
        "### Model Training"
      ]
    },
    {
      "metadata": {
        "id": "JPaa_Kj0r7nR",
        "colab_type": "code",
        "colab": {
          "base_uri": "https://localhost:8080/",
          "height": 459
        },
        "outputId": "1ba40ca0-b2b5-4c24-b1e3-a04f7e581be1"
      },
      "cell_type": "code",
      "source": [
        "model.fit(X_train, y_train, epochs=250, batch_size=128, validation_split=0.25, callbacks=[stop_monitor])"
      ],
      "execution_count": 76,
      "outputs": [
        {
          "output_type": "stream",
          "text": [
            "Train on 37500 samples, validate on 12500 samples\n",
            "Epoch 1/250\n",
            "37500/37500 [==============================] - 4s 95us/step - loss: 1.9128 - acc: 0.3113 - val_loss: 1.7946 - val_acc: 0.3622\n",
            "Epoch 2/250\n",
            "37500/37500 [==============================] - 3s 73us/step - loss: 1.7387 - acc: 0.3741 - val_loss: 1.7422 - val_acc: 0.3722\n",
            "Epoch 3/250\n",
            "37500/37500 [==============================] - 3s 72us/step - loss: 1.6527 - acc: 0.4092 - val_loss: 1.6847 - val_acc: 0.3978\n",
            "Epoch 4/250\n",
            "37500/37500 [==============================] - 3s 71us/step - loss: 1.6036 - acc: 0.4265 - val_loss: 1.5893 - val_acc: 0.4309\n",
            "Epoch 5/250\n",
            "37500/37500 [==============================] - 3s 71us/step - loss: 1.5693 - acc: 0.4395 - val_loss: 1.5929 - val_acc: 0.4264\n",
            "Epoch 6/250\n",
            "37500/37500 [==============================] - 3s 70us/step - loss: 1.5337 - acc: 0.4506 - val_loss: 1.5763 - val_acc: 0.4412\n",
            "Epoch 7/250\n",
            "37500/37500 [==============================] - 3s 71us/step - loss: 1.4986 - acc: 0.4652 - val_loss: 1.6023 - val_acc: 0.4293\n",
            "Epoch 8/250\n",
            "37500/37500 [==============================] - 3s 72us/step - loss: 1.4872 - acc: 0.4686 - val_loss: 1.5525 - val_acc: 0.4514\n",
            "Epoch 9/250\n",
            "37500/37500 [==============================] - 3s 73us/step - loss: 1.4625 - acc: 0.4795 - val_loss: 1.5074 - val_acc: 0.4686\n",
            "Epoch 10/250\n",
            "37500/37500 [==============================] - 3s 73us/step - loss: 1.4427 - acc: 0.4855 - val_loss: 1.5172 - val_acc: 0.4617\n",
            "Epoch 11/250\n",
            "37500/37500 [==============================] - 3s 72us/step - loss: 1.4286 - acc: 0.4921 - val_loss: 1.5149 - val_acc: 0.4625\n",
            "Epoch 12/250\n",
            "37500/37500 [==============================] - 3s 73us/step - loss: 1.4073 - acc: 0.5005 - val_loss: 1.5180 - val_acc: 0.4665\n"
          ],
          "name": "stdout"
        },
        {
          "output_type": "execute_result",
          "data": {
            "text/plain": [
              "<keras.callbacks.History at 0x7fd345b17780>"
            ]
          },
          "metadata": {
            "tags": []
          },
          "execution_count": 76
        }
      ]
    },
    {
      "metadata": {
        "id": "0qjxj6X8r7nW",
        "colab_type": "text"
      },
      "cell_type": "markdown",
      "source": [
        "## Evaluate"
      ]
    },
    {
      "metadata": {
        "id": "xo9-8KGDr7na",
        "colab_type": "code",
        "colab": {
          "base_uri": "https://localhost:8080/",
          "height": 85
        },
        "outputId": "4d9acbb7-fcce-4088-cb74-5081fe4e1f86"
      },
      "cell_type": "code",
      "source": [
        "training_scores = model.evaluate(X_train, y_train)\n",
        "test_scores = model.evaluate(X_test, y_test)\n",
        "print(\"Training accuracy: {:.2f}%\".format(training_scores[1]*100))\n",
        "print(\"Test accuracy: {:.2f}%\".format(test_scores[1]*100))"
      ],
      "execution_count": 77,
      "outputs": [
        {
          "output_type": "stream",
          "text": [
            "50000/50000 [==============================] - 4s 71us/step\n",
            "10000/10000 [==============================] - 1s 69us/step\n",
            "Training accuracy: 49.51%\n",
            "Test accuracy: 47.38%\n"
          ],
          "name": "stdout"
        }
      ]
    }
  ]
}